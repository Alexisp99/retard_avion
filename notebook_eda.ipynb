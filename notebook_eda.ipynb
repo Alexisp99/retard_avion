{
 "cells": [
  {
   "cell_type": "markdown",
   "id": "52f64c91",
   "metadata": {},
   "source": [
    "# EDA avion"
   ]
  },
  {
   "cell_type": "markdown",
   "id": "f7143bea",
   "metadata": {},
   "source": [
    "**Context:** Dans le but de mettre à disposition une interface permettant de prédire si un vol est en retard, nous avons analyser une base de données comportant differentes données enregistré sur les vols de compagnies aeriennes en 2016."
   ]
  },
  {
   "cell_type": "markdown",
   "id": "f42e1a75",
   "metadata": {},
   "source": [
    "# Import"
   ]
  },
  {
   "cell_type": "code",
   "execution_count": null,
   "id": "743b6b8b",
   "metadata": {},
   "outputs": [],
   "source": [
    "# import des librairie\n",
    "import pandas as pd\n",
    "import matplotlib.pyplot as plt\n",
    "import seaborn as sns\n",
    "import pymysql\n",
    "import fastparquet\n",
    "from function import *\n",
    "from statsmodels.stats.outliers_influence import variance_inflation_factor"
   ]
  },
  {
   "cell_type": "markdown",
   "id": "5275a5c7",
   "metadata": {},
   "source": [
    "# Lien avec la base de données"
   ]
  },
  {
   "cell_type": "markdown",
   "id": "01825829",
   "metadata": {},
   "source": [
    "Nous avons crée une base de donnée contenant 12 tables, une par mois de l'années 2016."
   ]
  },
  {
   "cell_type": "code",
   "execution_count": null,
   "id": "43d44c36",
   "metadata": {},
   "outputs": [],
   "source": [
    "conn=pymysql.connect(host='localhost',port=int(3306),user='root',passwd='groot',db='retard_avion')"
   ]
  },
  {
   "cell_type": "code",
   "execution_count": null,
   "id": "af133e01",
   "metadata": {},
   "outputs": [],
   "source": [
    "data=pd.read_sql_query(\"SELECT * FROM janvier \" ,conn)\n",
    "customers"
   ]
  },
  {
   "cell_type": "code",
   "execution_count": null,
   "id": "046ae855",
   "metadata": {},
   "outputs": [],
   "source": [
    "# voir si le dataframe contient des NaN\n",
    "count_nan(data)"
   ]
  },
  {
   "cell_type": "code",
   "execution_count": null,
   "id": "f1b3ac1c",
   "metadata": {},
   "outputs": [],
   "source": [
    "# enlevé les colonnes qui possède plus de 70% de NaN\n",
    "data = delete_nan(data, 70)"
   ]
  },
  {
   "cell_type": "markdown",
   "id": "f0fa1671",
   "metadata": {},
   "source": [
    "Nous n'avons pas observé de lignes dupliqué dans le dataframe. \n",
    "Nous avons rencontré des difficulté a pouvoir analyser la totalité des données nous avons selectionné les colonnes qui nous parraissait le plus pertinante et nous avons transformé le dataframe en fichier parquet"
   ]
  },
  {
   "cell_type": "code",
   "execution_count": null,
   "id": "0fd52627",
   "metadata": {},
   "outputs": [],
   "source": [
    "df = pd.read_parquet('df.parquet' , engine='fastparquet')"
   ]
  },
  {
   "cell_type": "code",
   "execution_count": null,
   "id": "acd5910b",
   "metadata": {},
   "outputs": [],
   "source": [
    "duplication(df)"
   ]
  },
  {
   "cell_type": "markdown",
   "id": "5396754b",
   "metadata": {},
   "source": [
    "# valeurs abérentes"
   ]
  },
  {
   "cell_type": "code",
   "execution_count": null,
   "id": "f062fa9d",
   "metadata": {},
   "outputs": [],
   "source": [
    "categ = df.select_dtypes(include=['object']).columns\n",
    "num = df._get_numeric_data().columns"
   ]
  },
  {
   "cell_type": "code",
   "execution_count": null,
   "id": "ee4cf3a4",
   "metadata": {},
   "outputs": [],
   "source": [
    "numerical = df[num]\n",
    "numerical.describe()"
   ]
  },
  {
   "cell_type": "code",
   "execution_count": null,
   "id": "2b710c1f",
   "metadata": {},
   "outputs": [],
   "source": [
    "catego = df[categ]\n",
    "for i in catego.columns :\n",
    "    print(\"Pour\",i,\":\")\n",
    "    print(\"-----------\")\n",
    "    print(catego[i].value_counts())\n",
    "    print(\"-----------\")"
   ]
  },
  {
   "cell_type": "markdown",
   "id": "72996e1c",
   "metadata": {},
   "source": [
    "# outlier"
   ]
  },
  {
   "cell_type": "code",
   "execution_count": null,
   "id": "9720748b",
   "metadata": {},
   "outputs": [],
   "source": [
    "boxplots(df, num)"
   ]
  },
  {
   "cell_type": "code",
   "execution_count": null,
   "id": "b186fb35",
   "metadata": {},
   "outputs": [],
   "source": [
    "distance = outlier_identificator(df,'DISTANCE')\n",
    "distance"
   ]
  },
  {
   "cell_type": "markdown",
   "id": "9151e3cb",
   "metadata": {},
   "source": [
    "# data viz"
   ]
  },
  {
   "cell_type": "markdown",
   "id": "ea7294e9",
   "metadata": {},
   "source": [
    "## univarié"
   ]
  },
  {
   "cell_type": "code",
   "execution_count": null,
   "id": "1ae731d7",
   "metadata": {},
   "outputs": [],
   "source": [
    "univar_repartition(df, num)"
   ]
  },
  {
   "cell_type": "code",
   "execution_count": null,
   "id": "479f8753",
   "metadata": {},
   "outputs": [],
   "source": [
    "univar_repartition(df, categ)"
   ]
  },
  {
   "cell_type": "markdown",
   "id": "46b35677",
   "metadata": {},
   "source": [
    "## multivarié"
   ]
  },
  {
   "cell_type": "code",
   "execution_count": null,
   "id": "9f532251",
   "metadata": {},
   "outputs": [],
   "source": [
    "histogram_plotly( df, 'CARRIER',hue ='ARR_DEL15')"
   ]
  },
  {
   "cell_type": "code",
   "execution_count": null,
   "id": "d1bdabbf",
   "metadata": {},
   "outputs": [],
   "source": [
    "histogram_plotly(df,'MONTH',hue ='ARR_DEL15')"
   ]
  },
  {
   "cell_type": "code",
   "execution_count": null,
   "id": "f3de56ea",
   "metadata": {},
   "outputs": [],
   "source": [
    "histogram_plotly(df,'DAY_OF_WEEK',hue ='ARR_DEL15')"
   ]
  },
  {
   "cell_type": "code",
   "execution_count": null,
   "id": "0912be42",
   "metadata": {},
   "outputs": [],
   "source": [
    "histogram_plotly(df,'ORIGIN_STATE_NM',hue ='ARR_DEL15')"
   ]
  },
  {
   "cell_type": "code",
   "execution_count": null,
   "id": "6e56f4aa",
   "metadata": {},
   "outputs": [],
   "source": [
    "histogram_plotly(df,'DEST_STATE_NM',hue ='ARR_DEL15')"
   ]
  },
  {
   "cell_type": "code",
   "execution_count": null,
   "id": "246e0329",
   "metadata": {},
   "outputs": [],
   "source": [
    "histogram_plotly(df,'DEP_DELAY',hue = 'ARR_DEL15')"
   ]
  },
  {
   "cell_type": "code",
   "execution_count": null,
   "id": "20227093",
   "metadata": {},
   "outputs": [],
   "source": [
    "# calculer le nombre de vols en retard\n",
    "delayed = df[df[\"ARR_DEL15\"] == 1]\n",
    "ontime = df[df[\"ARR_DEL15\"] == 0]\n",
    "num_delayed = len(delayed)\n",
    "num_ontime = len(ontime)\n",
    "\n",
    "# créer le pie chart\n",
    "labels = [\"DELAYED\", \"ONTIME\"]\n",
    "sizes = [num_delayed, num_ontime]\n",
    "colors = [ \"#7FFFD4\" ,\"#6CDFDF\"]\n",
    "\n",
    "fig, ax = plt.subplots()\n",
    "ax.pie(sizes, colors=colors, labels=labels, autopct='%1.1f%%', startangle=90)\n",
    "plt.title(\"Delayed Flights\")\n",
    "plt.show()"
   ]
  },
  {
   "cell_type": "code",
   "execution_count": null,
   "id": "b04baccb",
   "metadata": {},
   "outputs": [],
   "source": [
    "# tracer le scatter plot\n",
    "sns.scatterplot(x=\"DISTANCE\", y=\"DEP_DELAY\", hue=\"ARR_DEL15\", data=df, palette=[ \"#7FFFD4\" ,\"#6CDFDF\"])\n",
    "plt.title(\"Temps de retard du vol par rapport à la distance du vol\")\n",
    "plt.ylabel(\"Retard ( en min )\")\n",
    "plt.show()"
   ]
  },
  {
   "cell_type": "code",
   "execution_count": null,
   "id": "9f9db789",
   "metadata": {},
   "outputs": [],
   "source": [
    "# Créer le plot avec Seaborn\n",
    "sns.lineplot(x='MONTH', y='DISTANCE', data=df, color='#7FFFD4')\n",
    "\n",
    "# Ajouter un titre\n",
    "plt.title(\"Distance moyenne d'un vol pour chaque mois\")\n",
    "\n",
    "# Afficher le plot\n",
    "plt.show()"
   ]
  },
  {
   "cell_type": "code",
   "execution_count": null,
   "id": "61a38598",
   "metadata": {},
   "outputs": [],
   "source": [
    "# Créer le plot avec Seaborn\n",
    "sns.lineplot(x='MONTH', y='DEP_DELAY', data=df, color='#7FFFD4', ci = None)\n",
    "\n",
    "# Ajouter un titre\n",
    "plt.title(\"Retard moyen mensuel\")\n",
    "\n",
    "# Afficher le plot\n",
    "plt.show()"
   ]
  },
  {
   "cell_type": "markdown",
   "id": "c054294c",
   "metadata": {},
   "source": [
    "Pour avoir une meilleur idée de l'impacte du retard, nous avons calculé le pourcentage de retard"
   ]
  },
  {
   "cell_type": "code",
   "execution_count": null,
   "id": "1989f520",
   "metadata": {},
   "outputs": [],
   "source": [
    "compagnie= pourcent(df,[\"CARRIER\"],'ARR_DEL15')\n",
    "pourcent_fig(compagnie,\"CARRIER\" )"
   ]
  },
  {
   "cell_type": "code",
   "execution_count": null,
   "id": "53592b71",
   "metadata": {},
   "outputs": [],
   "source": [
    "month = pourcent(df, ['MONTH'],'ARR_DEL15')\n",
    "pourcent_fig(month,'MONTH' )"
   ]
  },
  {
   "cell_type": "code",
   "execution_count": null,
   "id": "7ab62daa",
   "metadata": {},
   "outputs": [],
   "source": [
    "dayw= pourcent(df, ['DAY_OF_WEEK'],'ARR_DEL15')\n",
    "pourcent_fig(dayw,'DAY_OF_WEEK' )"
   ]
  },
  {
   "cell_type": "code",
   "execution_count": null,
   "id": "a86824d8",
   "metadata": {},
   "outputs": [],
   "source": [
    "daym= pourcent(df,['DAY_OF_MONTH'],'ARR_DEL15')\n",
    "pourcent_fig(daym,'DAY_OF_MONTH' )"
   ]
  },
  {
   "cell_type": "code",
   "execution_count": null,
   "id": "086277b9",
   "metadata": {},
   "outputs": [],
   "source": [
    "dis= pourcent(df,['DISTANCE'],'ARR_DEL15')\n",
    "pourcent_fig(dis,'DISTANCE' )"
   ]
  },
  {
   "cell_type": "code",
   "execution_count": null,
   "id": "d6e5ad6b",
   "metadata": {},
   "outputs": [],
   "source": [
    "ori= pourcent(df,['ORIGIN_STATE_NM'],'ARR_DEL15')\n",
    "pourcent_fig(ori,'ORIGIN_STATE_NM' )"
   ]
  },
  {
   "cell_type": "code",
   "execution_count": null,
   "id": "8d45f3a4",
   "metadata": {},
   "outputs": [],
   "source": [
    "dest= pourcent(df,['DEST_STATE_NM'],'ARR_DEL15')\n",
    "pourcent_fig(dest,'DEST_STATE_NM' )"
   ]
  },
  {
   "cell_type": "markdown",
   "id": "280bb5f1",
   "metadata": {},
   "source": [
    "# corrélation et colinéarité"
   ]
  },
  {
   "cell_type": "markdown",
   "id": "d3e584d2",
   "metadata": {},
   "source": [
    "## corrélation"
   ]
  },
  {
   "cell_type": "code",
   "execution_count": null,
   "id": "f9a92599",
   "metadata": {},
   "outputs": [],
   "source": [
    "plt.figure(figsize=(15, 10))\n",
    "sns.heatmap(numerical.corr(), annot=True)"
   ]
  },
  {
   "cell_type": "markdown",
   "id": "b603660f",
   "metadata": {},
   "source": [
    "# colinéarité"
   ]
  },
  {
   "cell_type": "markdown",
   "id": "07f2fec3",
   "metadata": {},
   "source": [
    "Nous avons essayé de tester la multicolinearité des colonnes. "
   ]
  },
  {
   "cell_type": "code",
   "execution_count": null,
   "id": "3c45b20a",
   "metadata": {},
   "outputs": [],
   "source": [
    "X = numerical.copy() \n",
    "multicollinearity_check(X, thresh=5.0) \n",
    "# VIF (Variance Inflation Factor) > 10 as an indicator of multicollinearity  https://quantifyinghealth.com/vif-threshold/"
   ]
  },
  {
   "cell_type": "code",
   "execution_count": null,
   "id": "1f719931",
   "metadata": {},
   "outputs": [],
   "source": []
  }
 ],
 "metadata": {
  "kernelspec": {
   "display_name": "Python 3 (ipykernel)",
   "language": "python",
   "name": "python3"
  },
  "language_info": {
   "codemirror_mode": {
    "name": "ipython",
    "version": 3
   },
   "file_extension": ".py",
   "mimetype": "text/x-python",
   "name": "python",
   "nbconvert_exporter": "python",
   "pygments_lexer": "ipython3",
   "version": "3.10.11"
  }
 },
 "nbformat": 4,
 "nbformat_minor": 5
}
